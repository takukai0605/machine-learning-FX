{
  "cells": [
    {
      "cell_type": "markdown",
      "metadata": {
        "id": "view-in-github",
        "colab_type": "text"
      },
      "source": [
        "<a href=\"https://colab.research.google.com/github/takukai0605/machine-learning-FX/blob/master/%E4%BA%88%E6%B8%AC%E3%83%A2%E3%83%87%E3%83%AB.ipynb\" target=\"_parent\"><img src=\"https://colab.research.google.com/assets/colab-badge.svg\" alt=\"Open In Colab\"/></a>"
      ]
    },
    {
      "cell_type": "code",
      "execution_count": null,
      "metadata": {
        "colab": {
          "base_uri": "https://localhost:8080/"
        },
        "id": "dNfh6CGS9lM1",
        "outputId": "a33920a1-c94d-4f27-fb7f-c64dc70d1590"
      },
      "outputs": [
        {
          "output_type": "stream",
          "name": "stdout",
          "text": [
            "Mounted at /content/drive\n"
          ]
        }
      ],
      "source": [
        "from google.colab import drive\n",
        "drive.mount('/content/drive')"
      ]
    },
    {
      "cell_type": "code",
      "source": [
        "%cd /content/drive/MyDrive/個人研究/為替相場予測/FX_2023_04_21\n",
        "!git init"
      ],
      "metadata": {
        "colab": {
          "base_uri": "https://localhost:8080/"
        },
        "id": "7Qf0TjeihBux",
        "outputId": "604bc04b-b685-436f-ddfc-7b87c92a8cd3"
      },
      "execution_count": null,
      "outputs": [
        {
          "output_type": "stream",
          "name": "stdout",
          "text": [
            "/content/drive/MyDrive/個人研究/為替相場予測/FX_2023_04_21\n",
            "Initialized empty Git repository in /content/drive/MyDrive/個人研究/為替相場予測/FX_2023_04_21/.git/\n"
          ]
        }
      ]
    },
    {
      "cell_type": "code",
      "source": [
        "!git remote rm origin"
      ],
      "metadata": {
        "id": "PCMZmHgVjio9"
      },
      "execution_count": null,
      "outputs": []
    },
    {
      "cell_type": "code",
      "source": [
        "!git remote add origin https://github/takukai0605/test2.git"
      ],
      "metadata": {
        "id": "JidWTXXqhN1p"
      },
      "execution_count": null,
      "outputs": []
    },
    {
      "cell_type": "code",
      "execution_count": null,
      "metadata": {
        "id": "yfJGJnJw3yN6"
      },
      "outputs": [],
      "source": [
        "import numpy as np\n",
        "import pandas as pd\n",
        "pd.set_option('display.max_columns', 100)"
      ]
    },
    {
      "cell_type": "markdown",
      "metadata": {
        "id": "lxokgrTEUI5r"
      },
      "source": [
        "#データの入力"
      ]
    },
    {
      "cell_type": "code",
      "execution_count": null,
      "metadata": {
        "id": "dyF6D81Y38if"
      },
      "outputs": [],
      "source": [
        "#データの入力\n",
        "data_0=pd.read_csv('/content/drive/MyDrive/個人研究/為替相場予測/FX_2023_04_21/USD_JPY 過去データ_4.csv')\n",
        "data_jp=pd.read_csv(\"/content/drive/MyDrive/個人研究/為替相場予測/FX_2023_04_21/日経平均株価 過去データ.csv\")\n",
        "data_ny=pd.read_csv(\"/content/drive/MyDrive/個人研究/為替相場予測/FX_2023_04_21/NYダウ平均株価 過去データ.csv\")\n",
        "#data_1=pd.read_csv('/content/drive/MyDrive/個人研究/為替相場予測/FX_2023_04_21/USD_JPY 過去データ_1.csv')\n",
        "#data_sub = pd.concat([data_0, data_1], axis=0)\n",
        "#data_sub =data_sub.reset_index(drop=True)"
      ]
    },
    {
      "cell_type": "code",
      "source": [
        "data_jp[\"終値\"]=data_jp[\"終値\"].str.replace(',','').astype(float)\n",
        "data_jp[\"始値\"]=data_jp[\"始値\"].str.replace(',','').astype(float)\n",
        "data_jp[\"高値\"]=data_jp[\"高値\"].str.replace(',','').astype(float)\n",
        "data_jp[\"安値\"]=data_jp[\"安値\"].str.replace(',','').astype(float)"
      ],
      "metadata": {
        "id": "kbME4Pao13rK"
      },
      "execution_count": null,
      "outputs": []
    },
    {
      "cell_type": "code",
      "source": [
        "data_ny[\"終値\"]=data_ny[\"終値\"].str.replace(',','').astype(float)\n",
        "data_ny[\"始値\"]=data_ny[\"始値\"].str.replace(',','').astype(float)\n",
        "data_ny[\"高値\"]=data_ny[\"高値\"].str.replace(',','').astype(float)\n",
        "data_ny[\"安値\"]=data_ny[\"安値\"].str.replace(',','').astype(float)"
      ],
      "metadata": {
        "id": "lnUYFNvs3ipR"
      },
      "execution_count": null,
      "outputs": []
    },
    {
      "cell_type": "code",
      "source": [
        "data_sub=pd.merge(data_ny,data_jp,on=\"日付け\")\n",
        "data_sub=pd.merge(data_sub,data_0,on=\"日付け\")\n",
        "#data_sub =data_sub.reset_index(drop=True)\n",
        "\n",
        "#順番を逆にする\n",
        "data_reverse_0 = data_sub.iloc[::-1]\n",
        "data_reverse_0.index = range(len(data_sub))\n",
        "\n",
        "#不必要な行の削除\n",
        "data_reverse_0=data_reverse_0.drop(['出来高', '変化率 %'], axis=1)"
      ],
      "metadata": {
        "id": "-VCD9_Tf3tsz"
      },
      "execution_count": null,
      "outputs": []
    },
    {
      "cell_type": "code",
      "source": [
        "data_reverse_0.head()"
      ],
      "metadata": {
        "colab": {
          "base_uri": "https://localhost:8080/",
          "height": 206
        },
        "id": "qJ7HZd-GjQPA",
        "outputId": "a8681f2c-0ff0-491b-f4bc-553d2c47fff4"
      },
      "execution_count": null,
      "outputs": [
        {
          "output_type": "execute_result",
          "data": {
            "text/plain": [
              "          日付け      終値_x      始値_x      高値_x     安値_x    出来高_x 変化率 %_x  \\\n",
              "0  2004-05-10   9990.02  10116.28  10116.28  9932.74  272.13M  -1.26%   \n",
              "1  2004-05-11  10019.47   9989.24  10038.35  9974.05  223.65M   0.29%   \n",
              "2  2004-05-12  10045.16  10011.52  10048.21  9852.19  246.41M   0.26%   \n",
              "3  2004-05-13  10010.74  10044.31  10074.11  9970.93  215.31M  -0.34%   \n",
              "4  2004-05-14  10012.87  10008.43  10065.68  9938.42  175.18M   0.02%   \n",
              "\n",
              "       終値_y      始値_y      高値_y      安値_y 出来高_y 変化率 %_y      終値      始値  \\\n",
              "0  10884.70  11384.03  11392.79  10838.93   NaN  -4.84%  113.81  112.26   \n",
              "1  10907.18  10850.48  10970.47  10790.13   NaN   0.21%  112.91  113.88   \n",
              "2  11153.58  11017.65  11157.34  10984.79   NaN   2.26%  113.00  112.94   \n",
              "3  10825.10  11081.75  11081.75  10825.10   NaN  -2.95%  114.59  112.90   \n",
              "4  10849.63  10846.61  10939.09  10739.49   NaN   0.23%  114.10  114.66   \n",
              "\n",
              "       高値      安値  \n",
              "0  114.16  112.18  \n",
              "1  114.00  112.87  \n",
              "2  113.50  112.40  \n",
              "3  114.66  112.79  \n",
              "4  114.93  113.92  "
            ],
            "text/html": [
              "\n",
              "  <div id=\"df-e37dff04-6963-4c9a-9212-dafb8c9afa1d\">\n",
              "    <div class=\"colab-df-container\">\n",
              "      <div>\n",
              "<style scoped>\n",
              "    .dataframe tbody tr th:only-of-type {\n",
              "        vertical-align: middle;\n",
              "    }\n",
              "\n",
              "    .dataframe tbody tr th {\n",
              "        vertical-align: top;\n",
              "    }\n",
              "\n",
              "    .dataframe thead th {\n",
              "        text-align: right;\n",
              "    }\n",
              "</style>\n",
              "<table border=\"1\" class=\"dataframe\">\n",
              "  <thead>\n",
              "    <tr style=\"text-align: right;\">\n",
              "      <th></th>\n",
              "      <th>日付け</th>\n",
              "      <th>終値_x</th>\n",
              "      <th>始値_x</th>\n",
              "      <th>高値_x</th>\n",
              "      <th>安値_x</th>\n",
              "      <th>出来高_x</th>\n",
              "      <th>変化率 %_x</th>\n",
              "      <th>終値_y</th>\n",
              "      <th>始値_y</th>\n",
              "      <th>高値_y</th>\n",
              "      <th>安値_y</th>\n",
              "      <th>出来高_y</th>\n",
              "      <th>変化率 %_y</th>\n",
              "      <th>終値</th>\n",
              "      <th>始値</th>\n",
              "      <th>高値</th>\n",
              "      <th>安値</th>\n",
              "    </tr>\n",
              "  </thead>\n",
              "  <tbody>\n",
              "    <tr>\n",
              "      <th>0</th>\n",
              "      <td>2004-05-10</td>\n",
              "      <td>9990.02</td>\n",
              "      <td>10116.28</td>\n",
              "      <td>10116.28</td>\n",
              "      <td>9932.74</td>\n",
              "      <td>272.13M</td>\n",
              "      <td>-1.26%</td>\n",
              "      <td>10884.70</td>\n",
              "      <td>11384.03</td>\n",
              "      <td>11392.79</td>\n",
              "      <td>10838.93</td>\n",
              "      <td>NaN</td>\n",
              "      <td>-4.84%</td>\n",
              "      <td>113.81</td>\n",
              "      <td>112.26</td>\n",
              "      <td>114.16</td>\n",
              "      <td>112.18</td>\n",
              "    </tr>\n",
              "    <tr>\n",
              "      <th>1</th>\n",
              "      <td>2004-05-11</td>\n",
              "      <td>10019.47</td>\n",
              "      <td>9989.24</td>\n",
              "      <td>10038.35</td>\n",
              "      <td>9974.05</td>\n",
              "      <td>223.65M</td>\n",
              "      <td>0.29%</td>\n",
              "      <td>10907.18</td>\n",
              "      <td>10850.48</td>\n",
              "      <td>10970.47</td>\n",
              "      <td>10790.13</td>\n",
              "      <td>NaN</td>\n",
              "      <td>0.21%</td>\n",
              "      <td>112.91</td>\n",
              "      <td>113.88</td>\n",
              "      <td>114.00</td>\n",
              "      <td>112.87</td>\n",
              "    </tr>\n",
              "    <tr>\n",
              "      <th>2</th>\n",
              "      <td>2004-05-12</td>\n",
              "      <td>10045.16</td>\n",
              "      <td>10011.52</td>\n",
              "      <td>10048.21</td>\n",
              "      <td>9852.19</td>\n",
              "      <td>246.41M</td>\n",
              "      <td>0.26%</td>\n",
              "      <td>11153.58</td>\n",
              "      <td>11017.65</td>\n",
              "      <td>11157.34</td>\n",
              "      <td>10984.79</td>\n",
              "      <td>NaN</td>\n",
              "      <td>2.26%</td>\n",
              "      <td>113.00</td>\n",
              "      <td>112.94</td>\n",
              "      <td>113.50</td>\n",
              "      <td>112.40</td>\n",
              "    </tr>\n",
              "    <tr>\n",
              "      <th>3</th>\n",
              "      <td>2004-05-13</td>\n",
              "      <td>10010.74</td>\n",
              "      <td>10044.31</td>\n",
              "      <td>10074.11</td>\n",
              "      <td>9970.93</td>\n",
              "      <td>215.31M</td>\n",
              "      <td>-0.34%</td>\n",
              "      <td>10825.10</td>\n",
              "      <td>11081.75</td>\n",
              "      <td>11081.75</td>\n",
              "      <td>10825.10</td>\n",
              "      <td>NaN</td>\n",
              "      <td>-2.95%</td>\n",
              "      <td>114.59</td>\n",
              "      <td>112.90</td>\n",
              "      <td>114.66</td>\n",
              "      <td>112.79</td>\n",
              "    </tr>\n",
              "    <tr>\n",
              "      <th>4</th>\n",
              "      <td>2004-05-14</td>\n",
              "      <td>10012.87</td>\n",
              "      <td>10008.43</td>\n",
              "      <td>10065.68</td>\n",
              "      <td>9938.42</td>\n",
              "      <td>175.18M</td>\n",
              "      <td>0.02%</td>\n",
              "      <td>10849.63</td>\n",
              "      <td>10846.61</td>\n",
              "      <td>10939.09</td>\n",
              "      <td>10739.49</td>\n",
              "      <td>NaN</td>\n",
              "      <td>0.23%</td>\n",
              "      <td>114.10</td>\n",
              "      <td>114.66</td>\n",
              "      <td>114.93</td>\n",
              "      <td>113.92</td>\n",
              "    </tr>\n",
              "  </tbody>\n",
              "</table>\n",
              "</div>\n",
              "      <button class=\"colab-df-convert\" onclick=\"convertToInteractive('df-e37dff04-6963-4c9a-9212-dafb8c9afa1d')\"\n",
              "              title=\"Convert this dataframe to an interactive table.\"\n",
              "              style=\"display:none;\">\n",
              "        \n",
              "  <svg xmlns=\"http://www.w3.org/2000/svg\" height=\"24px\"viewBox=\"0 0 24 24\"\n",
              "       width=\"24px\">\n",
              "    <path d=\"M0 0h24v24H0V0z\" fill=\"none\"/>\n",
              "    <path d=\"M18.56 5.44l.94 2.06.94-2.06 2.06-.94-2.06-.94-.94-2.06-.94 2.06-2.06.94zm-11 1L8.5 8.5l.94-2.06 2.06-.94-2.06-.94L8.5 2.5l-.94 2.06-2.06.94zm10 10l.94 2.06.94-2.06 2.06-.94-2.06-.94-.94-2.06-.94 2.06-2.06.94z\"/><path d=\"M17.41 7.96l-1.37-1.37c-.4-.4-.92-.59-1.43-.59-.52 0-1.04.2-1.43.59L10.3 9.45l-7.72 7.72c-.78.78-.78 2.05 0 2.83L4 21.41c.39.39.9.59 1.41.59.51 0 1.02-.2 1.41-.59l7.78-7.78 2.81-2.81c.8-.78.8-2.07 0-2.86zM5.41 20L4 18.59l7.72-7.72 1.47 1.35L5.41 20z\"/>\n",
              "  </svg>\n",
              "      </button>\n",
              "      \n",
              "  <style>\n",
              "    .colab-df-container {\n",
              "      display:flex;\n",
              "      flex-wrap:wrap;\n",
              "      gap: 12px;\n",
              "    }\n",
              "\n",
              "    .colab-df-convert {\n",
              "      background-color: #E8F0FE;\n",
              "      border: none;\n",
              "      border-radius: 50%;\n",
              "      cursor: pointer;\n",
              "      display: none;\n",
              "      fill: #1967D2;\n",
              "      height: 32px;\n",
              "      padding: 0 0 0 0;\n",
              "      width: 32px;\n",
              "    }\n",
              "\n",
              "    .colab-df-convert:hover {\n",
              "      background-color: #E2EBFA;\n",
              "      box-shadow: 0px 1px 2px rgba(60, 64, 67, 0.3), 0px 1px 3px 1px rgba(60, 64, 67, 0.15);\n",
              "      fill: #174EA6;\n",
              "    }\n",
              "\n",
              "    [theme=dark] .colab-df-convert {\n",
              "      background-color: #3B4455;\n",
              "      fill: #D2E3FC;\n",
              "    }\n",
              "\n",
              "    [theme=dark] .colab-df-convert:hover {\n",
              "      background-color: #434B5C;\n",
              "      box-shadow: 0px 1px 3px 1px rgba(0, 0, 0, 0.15);\n",
              "      filter: drop-shadow(0px 1px 2px rgba(0, 0, 0, 0.3));\n",
              "      fill: #FFFFFF;\n",
              "    }\n",
              "  </style>\n",
              "\n",
              "      <script>\n",
              "        const buttonEl =\n",
              "          document.querySelector('#df-e37dff04-6963-4c9a-9212-dafb8c9afa1d button.colab-df-convert');\n",
              "        buttonEl.style.display =\n",
              "          google.colab.kernel.accessAllowed ? 'block' : 'none';\n",
              "\n",
              "        async function convertToInteractive(key) {\n",
              "          const element = document.querySelector('#df-e37dff04-6963-4c9a-9212-dafb8c9afa1d');\n",
              "          const dataTable =\n",
              "            await google.colab.kernel.invokeFunction('convertToInteractive',\n",
              "                                                     [key], {});\n",
              "          if (!dataTable) return;\n",
              "\n",
              "          const docLinkHtml = 'Like what you see? Visit the ' +\n",
              "            '<a target=\"_blank\" href=https://colab.research.google.com/notebooks/data_table.ipynb>data table notebook</a>'\n",
              "            + ' to learn more about interactive tables.';\n",
              "          element.innerHTML = '';\n",
              "          dataTable['output_type'] = 'display_data';\n",
              "          await google.colab.output.renderOutput(dataTable, element);\n",
              "          const docLink = document.createElement('div');\n",
              "          docLink.innerHTML = docLinkHtml;\n",
              "          element.appendChild(docLink);\n",
              "        }\n",
              "      </script>\n",
              "    </div>\n",
              "  </div>\n",
              "  "
            ]
          },
          "metadata": {},
          "execution_count": 70
        }
      ]
    },
    {
      "cell_type": "markdown",
      "metadata": {
        "id": "NLtGj3RtUNx2"
      },
      "source": [
        "#特徴量作成"
      ]
    },
    {
      "cell_type": "code",
      "execution_count": null,
      "metadata": {
        "colab": {
          "base_uri": "https://localhost:8080/"
        },
        "id": "GIlDmLwxcxvC",
        "outputId": "2a764447-4cec-49fe-e055-67f8e5652f8a"
      },
      "outputs": [
        {
          "output_type": "stream",
          "name": "stderr",
          "text": [
            "<ipython-input-71-48a256177583>:10: SettingWithCopyWarning: \n",
            "A value is trying to be set on a copy of a slice from a DataFrame\n",
            "\n",
            "See the caveats in the documentation: https://pandas.pydata.org/pandas-docs/stable/user_guide/indexing.html#returning-a-view-versus-a-copy\n",
            "  data['上昇'][j]=0\n",
            "<ipython-input-71-48a256177583>:8: SettingWithCopyWarning: \n",
            "A value is trying to be set on a copy of a slice from a DataFrame\n",
            "\n",
            "See the caveats in the documentation: https://pandas.pydata.org/pandas-docs/stable/user_guide/indexing.html#returning-a-view-versus-a-copy\n",
            "  data['上昇'][j]=1\n"
          ]
        }
      ],
      "source": [
        "#上昇\n",
        "\n",
        "def up_down(data):\n",
        "  data['上昇']=0\n",
        "  for i in range(1,len(data),1):\n",
        "    j=i-1\n",
        "    if data['終値'][i]-data['終値'][j]>0:\n",
        "      data['上昇'][j]=1\n",
        "    else:\n",
        "      data['上昇'][j]=0\n",
        "\n",
        "up_down(data_reverse_0)"
      ]
    },
    {
      "cell_type": "code",
      "execution_count": null,
      "metadata": {
        "colab": {
          "base_uri": "https://localhost:8080/"
        },
        "id": "BximQO524Gvd",
        "outputId": "6bf2e572-c86a-49ad-e9d9-8b022734a662"
      },
      "outputs": [
        {
          "output_type": "stream",
          "name": "stderr",
          "text": [
            "<ipython-input-72-3f60cc61b28a>:14: SettingWithCopyWarning: \n",
            "A value is trying to be set on a copy of a slice from a DataFrame\n",
            "\n",
            "See the caveats in the documentation: https://pandas.pydata.org/pandas-docs/stable/user_guide/indexing.html#returning-a-view-versus-a-copy\n",
            "  data[num1+\"-\"+num2][j]=abs(data[num1][j]-data[num2][j])\n",
            "<ipython-input-72-3f60cc61b28a>:14: SettingWithCopyWarning: \n",
            "A value is trying to be set on a copy of a slice from a DataFrame\n",
            "\n",
            "See the caveats in the documentation: https://pandas.pydata.org/pandas-docs/stable/user_guide/indexing.html#returning-a-view-versus-a-copy\n",
            "  data[num1+\"-\"+num2][j]=abs(data[num1][j]-data[num2][j])\n",
            "<ipython-input-72-3f60cc61b28a>:14: SettingWithCopyWarning: \n",
            "A value is trying to be set on a copy of a slice from a DataFrame\n",
            "\n",
            "See the caveats in the documentation: https://pandas.pydata.org/pandas-docs/stable/user_guide/indexing.html#returning-a-view-versus-a-copy\n",
            "  data[num1+\"-\"+num2][j]=abs(data[num1][j]-data[num2][j])\n",
            "<ipython-input-72-3f60cc61b28a>:14: SettingWithCopyWarning: \n",
            "A value is trying to be set on a copy of a slice from a DataFrame\n",
            "\n",
            "See the caveats in the documentation: https://pandas.pydata.org/pandas-docs/stable/user_guide/indexing.html#returning-a-view-versus-a-copy\n",
            "  data[num1+\"-\"+num2][j]=abs(data[num1][j]-data[num2][j])\n",
            "<ipython-input-72-3f60cc61b28a>:14: SettingWithCopyWarning: \n",
            "A value is trying to be set on a copy of a slice from a DataFrame\n",
            "\n",
            "See the caveats in the documentation: https://pandas.pydata.org/pandas-docs/stable/user_guide/indexing.html#returning-a-view-versus-a-copy\n",
            "  data[num1+\"-\"+num2][j]=abs(data[num1][j]-data[num2][j])\n",
            "<ipython-input-72-3f60cc61b28a>:14: SettingWithCopyWarning: \n",
            "A value is trying to be set on a copy of a slice from a DataFrame\n",
            "\n",
            "See the caveats in the documentation: https://pandas.pydata.org/pandas-docs/stable/user_guide/indexing.html#returning-a-view-versus-a-copy\n",
            "  data[num1+\"-\"+num2][j]=abs(data[num1][j]-data[num2][j])\n",
            "<ipython-input-72-3f60cc61b28a>:29: SettingWithCopyWarning: \n",
            "A value is trying to be set on a copy of a slice from a DataFrame\n",
            "\n",
            "See the caveats in the documentation: https://pandas.pydata.org/pandas-docs/stable/user_guide/indexing.html#returning-a-view-versus-a-copy\n",
            "  data[\"過去\"+column[i]+\"-\"+\"現在\"+column[i]][j]=data[column[i]][k]-data[column[i]][j]\n",
            "<ipython-input-72-3f60cc61b28a>:29: SettingWithCopyWarning: \n",
            "A value is trying to be set on a copy of a slice from a DataFrame\n",
            "\n",
            "See the caveats in the documentation: https://pandas.pydata.org/pandas-docs/stable/user_guide/indexing.html#returning-a-view-versus-a-copy\n",
            "  data[\"過去\"+column[i]+\"-\"+\"現在\"+column[i]][j]=data[column[i]][k]-data[column[i]][j]\n",
            "<ipython-input-72-3f60cc61b28a>:29: SettingWithCopyWarning: \n",
            "A value is trying to be set on a copy of a slice from a DataFrame\n",
            "\n",
            "See the caveats in the documentation: https://pandas.pydata.org/pandas-docs/stable/user_guide/indexing.html#returning-a-view-versus-a-copy\n",
            "  data[\"過去\"+column[i]+\"-\"+\"現在\"+column[i]][j]=data[column[i]][k]-data[column[i]][j]\n",
            "<ipython-input-72-3f60cc61b28a>:29: SettingWithCopyWarning: \n",
            "A value is trying to be set on a copy of a slice from a DataFrame\n",
            "\n",
            "See the caveats in the documentation: https://pandas.pydata.org/pandas-docs/stable/user_guide/indexing.html#returning-a-view-versus-a-copy\n",
            "  data[\"過去\"+column[i]+\"-\"+\"現在\"+column[i]][j]=data[column[i]][k]-data[column[i]][j]\n",
            "<ipython-input-72-3f60cc61b28a>:44: SettingWithCopyWarning: \n",
            "A value is trying to be set on a copy of a slice from a DataFrame\n",
            "\n",
            "See the caveats in the documentation: https://pandas.pydata.org/pandas-docs/stable/user_guide/indexing.html#returning-a-view-versus-a-copy\n",
            "  data[num1+\"-\"+num2+\"-2\"][j+1]=abs(data[num1][j]-data[num2][j])\n",
            "<ipython-input-72-3f60cc61b28a>:44: SettingWithCopyWarning: \n",
            "A value is trying to be set on a copy of a slice from a DataFrame\n",
            "\n",
            "See the caveats in the documentation: https://pandas.pydata.org/pandas-docs/stable/user_guide/indexing.html#returning-a-view-versus-a-copy\n",
            "  data[num1+\"-\"+num2+\"-2\"][j+1]=abs(data[num1][j]-data[num2][j])\n",
            "<ipython-input-72-3f60cc61b28a>:44: SettingWithCopyWarning: \n",
            "A value is trying to be set on a copy of a slice from a DataFrame\n",
            "\n",
            "See the caveats in the documentation: https://pandas.pydata.org/pandas-docs/stable/user_guide/indexing.html#returning-a-view-versus-a-copy\n",
            "  data[num1+\"-\"+num2+\"-2\"][j+1]=abs(data[num1][j]-data[num2][j])\n",
            "<ipython-input-72-3f60cc61b28a>:44: SettingWithCopyWarning: \n",
            "A value is trying to be set on a copy of a slice from a DataFrame\n",
            "\n",
            "See the caveats in the documentation: https://pandas.pydata.org/pandas-docs/stable/user_guide/indexing.html#returning-a-view-versus-a-copy\n",
            "  data[num1+\"-\"+num2+\"-2\"][j+1]=abs(data[num1][j]-data[num2][j])\n",
            "<ipython-input-72-3f60cc61b28a>:44: SettingWithCopyWarning: \n",
            "A value is trying to be set on a copy of a slice from a DataFrame\n",
            "\n",
            "See the caveats in the documentation: https://pandas.pydata.org/pandas-docs/stable/user_guide/indexing.html#returning-a-view-versus-a-copy\n",
            "  data[num1+\"-\"+num2+\"-2\"][j+1]=abs(data[num1][j]-data[num2][j])\n",
            "<ipython-input-72-3f60cc61b28a>:44: SettingWithCopyWarning: \n",
            "A value is trying to be set on a copy of a slice from a DataFrame\n",
            "\n",
            "See the caveats in the documentation: https://pandas.pydata.org/pandas-docs/stable/user_guide/indexing.html#returning-a-view-versus-a-copy\n",
            "  data[num1+\"-\"+num2+\"-2\"][j+1]=abs(data[num1][j]-data[num2][j])\n",
            "<ipython-input-72-3f60cc61b28a>:59: SettingWithCopyWarning: \n",
            "A value is trying to be set on a copy of a slice from a DataFrame\n",
            "\n",
            "See the caveats in the documentation: https://pandas.pydata.org/pandas-docs/stable/user_guide/indexing.html#returning-a-view-versus-a-copy\n",
            "  data[num1+\"-\"+num2+\"-3\"][j+2]=abs(data[num1][j]-data[num2][j])\n",
            "<ipython-input-72-3f60cc61b28a>:59: SettingWithCopyWarning: \n",
            "A value is trying to be set on a copy of a slice from a DataFrame\n",
            "\n",
            "See the caveats in the documentation: https://pandas.pydata.org/pandas-docs/stable/user_guide/indexing.html#returning-a-view-versus-a-copy\n",
            "  data[num1+\"-\"+num2+\"-3\"][j+2]=abs(data[num1][j]-data[num2][j])\n",
            "<ipython-input-72-3f60cc61b28a>:59: SettingWithCopyWarning: \n",
            "A value is trying to be set on a copy of a slice from a DataFrame\n",
            "\n",
            "See the caveats in the documentation: https://pandas.pydata.org/pandas-docs/stable/user_guide/indexing.html#returning-a-view-versus-a-copy\n",
            "  data[num1+\"-\"+num2+\"-3\"][j+2]=abs(data[num1][j]-data[num2][j])\n",
            "<ipython-input-72-3f60cc61b28a>:59: SettingWithCopyWarning: \n",
            "A value is trying to be set on a copy of a slice from a DataFrame\n",
            "\n",
            "See the caveats in the documentation: https://pandas.pydata.org/pandas-docs/stable/user_guide/indexing.html#returning-a-view-versus-a-copy\n",
            "  data[num1+\"-\"+num2+\"-3\"][j+2]=abs(data[num1][j]-data[num2][j])\n",
            "<ipython-input-72-3f60cc61b28a>:59: SettingWithCopyWarning: \n",
            "A value is trying to be set on a copy of a slice from a DataFrame\n",
            "\n",
            "See the caveats in the documentation: https://pandas.pydata.org/pandas-docs/stable/user_guide/indexing.html#returning-a-view-versus-a-copy\n",
            "  data[num1+\"-\"+num2+\"-3\"][j+2]=abs(data[num1][j]-data[num2][j])\n",
            "<ipython-input-72-3f60cc61b28a>:59: SettingWithCopyWarning: \n",
            "A value is trying to be set on a copy of a slice from a DataFrame\n",
            "\n",
            "See the caveats in the documentation: https://pandas.pydata.org/pandas-docs/stable/user_guide/indexing.html#returning-a-view-versus-a-copy\n",
            "  data[num1+\"-\"+num2+\"-3\"][j+2]=abs(data[num1][j]-data[num2][j])\n"
          ]
        }
      ],
      "source": [
        "#終値、始値、高値、安値の互いの差分を格納\n",
        "\n",
        "def difference(data):\n",
        "  h='高値'\n",
        "  l='安値'\n",
        "  s='始値'\n",
        "  e='終値'\n",
        "  column=[[h,l],[h,s],[h,e],[l,s],[l,e],[s,e]]\n",
        "  for i in range(len(column)):\n",
        "    num1=column[i][0]\n",
        "    num2=column[i][1]\n",
        "    data[num1+\"-\"+num2]=0\n",
        "    for j in range(len(data)):\n",
        "      data[num1+\"-\"+num2][j]=abs(data[num1][j]-data[num2][j])\n",
        "      \n",
        "difference(data_reverse_0)\n",
        "\n",
        "#前日の各値の変化\n",
        "def before(data):\n",
        "  h='高値'\n",
        "  l='安値'\n",
        "  s='始値'\n",
        "  e='終値'\n",
        "  column=[h,l,s,e]\n",
        "  for i in range(len(column)):\n",
        "    data[\"過去\"+column[i]+\"-\"+\"現在\"+column[i]]=0\n",
        "    for j in range(1,len(data),1):\n",
        "      k=j-1\n",
        "      data[\"過去\"+column[i]+\"-\"+\"現在\"+column[i]][j]=data[column[i]][k]-data[column[i]][j]\n",
        "      \n",
        "before(data_reverse_0)\n",
        "\n",
        "def difference2(data):\n",
        "  h='高値'\n",
        "  l='安値'\n",
        "  s='始値'\n",
        "  e='終値'\n",
        "  column=[[h,l],[h,s],[h,e],[l,s],[l,e],[s,e]]\n",
        "  for i in range(len(column)):\n",
        "    num1=column[i][0]\n",
        "    num2=column[i][1]\n",
        "    data[num1+\"-\"+num2+\"-2\"]=0\n",
        "    for j in range(len(data)):\n",
        "      data[num1+\"-\"+num2+\"-2\"][j+1]=abs(data[num1][j]-data[num2][j])\n",
        "      \n",
        "difference2(data_reverse_0)\n",
        "\n",
        "def difference3(data):\n",
        "  h='高値'\n",
        "  l='安値'\n",
        "  s='始値'\n",
        "  e='終値'\n",
        "  column=[[h,l],[h,s],[h,e],[l,s],[l,e],[s,e]]\n",
        "  for i in range(len(column)):\n",
        "    num1=column[i][0]\n",
        "    num2=column[i][1]\n",
        "    data[num1+\"-\"+num2+\"-3\"]=0\n",
        "    for j in range(len(data)):\n",
        "      data[num1+\"-\"+num2+\"-3\"][j+2]=abs(data[num1][j]-data[num2][j])\n",
        "      \n",
        "difference3(data_reverse_0)"
      ]
    },
    {
      "cell_type": "code",
      "source": [
        "data_jp.head()"
      ],
      "metadata": {
        "colab": {
          "base_uri": "https://localhost:8080/",
          "height": 206
        },
        "id": "qC3quRBz2447",
        "outputId": "5d61de1e-a509-4e23-ed2d-244ca55b4cac"
      },
      "execution_count": null,
      "outputs": [
        {
          "output_type": "execute_result",
          "data": {
            "text/plain": [
              "          日付け        終値        始値        高値        安値      出来高   変化率 %\n",
              "0  2023-05-10  29122.18  29189.41  29195.16  29070.11  872.76M  -0.41%\n",
              "1  2023-05-09  29242.82  29020.63  29262.36  29020.63  863.91M   1.01%\n",
              "2  2023-05-08  28949.88  29095.46  29144.12  28931.81  741.49M  -0.71%\n",
              "3  2023-05-02  29157.95  29278.80  29278.80  29083.13  639.10M   0.12%\n",
              "4  2023-05-01  29123.18  29058.05  29145.89  29016.83  733.68M   0.92%"
            ],
            "text/html": [
              "\n",
              "  <div id=\"df-9ac5ce5b-300f-4ed5-adb5-3d6a10b6bac8\">\n",
              "    <div class=\"colab-df-container\">\n",
              "      <div>\n",
              "<style scoped>\n",
              "    .dataframe tbody tr th:only-of-type {\n",
              "        vertical-align: middle;\n",
              "    }\n",
              "\n",
              "    .dataframe tbody tr th {\n",
              "        vertical-align: top;\n",
              "    }\n",
              "\n",
              "    .dataframe thead th {\n",
              "        text-align: right;\n",
              "    }\n",
              "</style>\n",
              "<table border=\"1\" class=\"dataframe\">\n",
              "  <thead>\n",
              "    <tr style=\"text-align: right;\">\n",
              "      <th></th>\n",
              "      <th>日付け</th>\n",
              "      <th>終値</th>\n",
              "      <th>始値</th>\n",
              "      <th>高値</th>\n",
              "      <th>安値</th>\n",
              "      <th>出来高</th>\n",
              "      <th>変化率 %</th>\n",
              "    </tr>\n",
              "  </thead>\n",
              "  <tbody>\n",
              "    <tr>\n",
              "      <th>0</th>\n",
              "      <td>2023-05-10</td>\n",
              "      <td>29122.18</td>\n",
              "      <td>29189.41</td>\n",
              "      <td>29195.16</td>\n",
              "      <td>29070.11</td>\n",
              "      <td>872.76M</td>\n",
              "      <td>-0.41%</td>\n",
              "    </tr>\n",
              "    <tr>\n",
              "      <th>1</th>\n",
              "      <td>2023-05-09</td>\n",
              "      <td>29242.82</td>\n",
              "      <td>29020.63</td>\n",
              "      <td>29262.36</td>\n",
              "      <td>29020.63</td>\n",
              "      <td>863.91M</td>\n",
              "      <td>1.01%</td>\n",
              "    </tr>\n",
              "    <tr>\n",
              "      <th>2</th>\n",
              "      <td>2023-05-08</td>\n",
              "      <td>28949.88</td>\n",
              "      <td>29095.46</td>\n",
              "      <td>29144.12</td>\n",
              "      <td>28931.81</td>\n",
              "      <td>741.49M</td>\n",
              "      <td>-0.71%</td>\n",
              "    </tr>\n",
              "    <tr>\n",
              "      <th>3</th>\n",
              "      <td>2023-05-02</td>\n",
              "      <td>29157.95</td>\n",
              "      <td>29278.80</td>\n",
              "      <td>29278.80</td>\n",
              "      <td>29083.13</td>\n",
              "      <td>639.10M</td>\n",
              "      <td>0.12%</td>\n",
              "    </tr>\n",
              "    <tr>\n",
              "      <th>4</th>\n",
              "      <td>2023-05-01</td>\n",
              "      <td>29123.18</td>\n",
              "      <td>29058.05</td>\n",
              "      <td>29145.89</td>\n",
              "      <td>29016.83</td>\n",
              "      <td>733.68M</td>\n",
              "      <td>0.92%</td>\n",
              "    </tr>\n",
              "  </tbody>\n",
              "</table>\n",
              "</div>\n",
              "      <button class=\"colab-df-convert\" onclick=\"convertToInteractive('df-9ac5ce5b-300f-4ed5-adb5-3d6a10b6bac8')\"\n",
              "              title=\"Convert this dataframe to an interactive table.\"\n",
              "              style=\"display:none;\">\n",
              "        \n",
              "  <svg xmlns=\"http://www.w3.org/2000/svg\" height=\"24px\"viewBox=\"0 0 24 24\"\n",
              "       width=\"24px\">\n",
              "    <path d=\"M0 0h24v24H0V0z\" fill=\"none\"/>\n",
              "    <path d=\"M18.56 5.44l.94 2.06.94-2.06 2.06-.94-2.06-.94-.94-2.06-.94 2.06-2.06.94zm-11 1L8.5 8.5l.94-2.06 2.06-.94-2.06-.94L8.5 2.5l-.94 2.06-2.06.94zm10 10l.94 2.06.94-2.06 2.06-.94-2.06-.94-.94-2.06-.94 2.06-2.06.94z\"/><path d=\"M17.41 7.96l-1.37-1.37c-.4-.4-.92-.59-1.43-.59-.52 0-1.04.2-1.43.59L10.3 9.45l-7.72 7.72c-.78.78-.78 2.05 0 2.83L4 21.41c.39.39.9.59 1.41.59.51 0 1.02-.2 1.41-.59l7.78-7.78 2.81-2.81c.8-.78.8-2.07 0-2.86zM5.41 20L4 18.59l7.72-7.72 1.47 1.35L5.41 20z\"/>\n",
              "  </svg>\n",
              "      </button>\n",
              "      \n",
              "  <style>\n",
              "    .colab-df-container {\n",
              "      display:flex;\n",
              "      flex-wrap:wrap;\n",
              "      gap: 12px;\n",
              "    }\n",
              "\n",
              "    .colab-df-convert {\n",
              "      background-color: #E8F0FE;\n",
              "      border: none;\n",
              "      border-radius: 50%;\n",
              "      cursor: pointer;\n",
              "      display: none;\n",
              "      fill: #1967D2;\n",
              "      height: 32px;\n",
              "      padding: 0 0 0 0;\n",
              "      width: 32px;\n",
              "    }\n",
              "\n",
              "    .colab-df-convert:hover {\n",
              "      background-color: #E2EBFA;\n",
              "      box-shadow: 0px 1px 2px rgba(60, 64, 67, 0.3), 0px 1px 3px 1px rgba(60, 64, 67, 0.15);\n",
              "      fill: #174EA6;\n",
              "    }\n",
              "\n",
              "    [theme=dark] .colab-df-convert {\n",
              "      background-color: #3B4455;\n",
              "      fill: #D2E3FC;\n",
              "    }\n",
              "\n",
              "    [theme=dark] .colab-df-convert:hover {\n",
              "      background-color: #434B5C;\n",
              "      box-shadow: 0px 1px 3px 1px rgba(0, 0, 0, 0.15);\n",
              "      filter: drop-shadow(0px 1px 2px rgba(0, 0, 0, 0.3));\n",
              "      fill: #FFFFFF;\n",
              "    }\n",
              "  </style>\n",
              "\n",
              "      <script>\n",
              "        const buttonEl =\n",
              "          document.querySelector('#df-9ac5ce5b-300f-4ed5-adb5-3d6a10b6bac8 button.colab-df-convert');\n",
              "        buttonEl.style.display =\n",
              "          google.colab.kernel.accessAllowed ? 'block' : 'none';\n",
              "\n",
              "        async function convertToInteractive(key) {\n",
              "          const element = document.querySelector('#df-9ac5ce5b-300f-4ed5-adb5-3d6a10b6bac8');\n",
              "          const dataTable =\n",
              "            await google.colab.kernel.invokeFunction('convertToInteractive',\n",
              "                                                     [key], {});\n",
              "          if (!dataTable) return;\n",
              "\n",
              "          const docLinkHtml = 'Like what you see? Visit the ' +\n",
              "            '<a target=\"_blank\" href=https://colab.research.google.com/notebooks/data_table.ipynb>data table notebook</a>'\n",
              "            + ' to learn more about interactive tables.';\n",
              "          element.innerHTML = '';\n",
              "          dataTable['output_type'] = 'display_data';\n",
              "          await google.colab.output.renderOutput(dataTable, element);\n",
              "          const docLink = document.createElement('div');\n",
              "          docLink.innerHTML = docLinkHtml;\n",
              "          element.appendChild(docLink);\n",
              "        }\n",
              "      </script>\n",
              "    </div>\n",
              "  </div>\n",
              "  "
            ]
          },
          "metadata": {},
          "execution_count": 73
        }
      ]
    },
    {
      "cell_type": "code",
      "execution_count": null,
      "metadata": {
        "id": "W88RY32SLQQK"
      },
      "outputs": [],
      "source": [
        "#データ分割\n",
        "from sklearn.model_selection import train_test_split\n",
        "data_reverse, data_reverse_test = train_test_split(data_reverse_0, test_size=0.3,shuffle=False)\n",
        "\n",
        "data_reverse_test=data_reverse_test.reset_index()"
      ]
    },
    {
      "cell_type": "code",
      "execution_count": null,
      "metadata": {
        "colab": {
          "base_uri": "https://localhost:8080/"
        },
        "id": "nexjruoX8hYX",
        "outputId": "d840cc8b-52ec-40ac-9f3e-d14213078b65"
      },
      "outputs": [
        {
          "output_type": "stream",
          "name": "stderr",
          "text": [
            "<ipython-input-76-2e0c8bd9f3ad>:14: SettingWithCopyWarning: \n",
            "A value is trying to be set on a copy of a slice from a DataFrame\n",
            "\n",
            "See the caveats in the documentation: https://pandas.pydata.org/pandas-docs/stable/user_guide/indexing.html#returning-a-view-versus-a-copy\n",
            "  data_reverse[column[k]+'-count'][i]=top-j\n",
            "<ipython-input-76-2e0c8bd9f3ad>:14: SettingWithCopyWarning: \n",
            "A value is trying to be set on a copy of a slice from a DataFrame\n",
            "\n",
            "See the caveats in the documentation: https://pandas.pydata.org/pandas-docs/stable/user_guide/indexing.html#returning-a-view-versus-a-copy\n",
            "  data_reverse[column[k]+'-count'][i]=top-j\n",
            "<ipython-input-76-2e0c8bd9f3ad>:14: SettingWithCopyWarning: \n",
            "A value is trying to be set on a copy of a slice from a DataFrame\n",
            "\n",
            "See the caveats in the documentation: https://pandas.pydata.org/pandas-docs/stable/user_guide/indexing.html#returning-a-view-versus-a-copy\n",
            "  data_reverse[column[k]+'-count'][i]=top-j\n",
            "<ipython-input-76-2e0c8bd9f3ad>:14: SettingWithCopyWarning: \n",
            "A value is trying to be set on a copy of a slice from a DataFrame\n",
            "\n",
            "See the caveats in the documentation: https://pandas.pydata.org/pandas-docs/stable/user_guide/indexing.html#returning-a-view-versus-a-copy\n",
            "  data_reverse[column[k]+'-count'][i]=top-j\n",
            "<ipython-input-76-2e0c8bd9f3ad>:14: SettingWithCopyWarning: \n",
            "A value is trying to be set on a copy of a slice from a DataFrame\n",
            "\n",
            "See the caveats in the documentation: https://pandas.pydata.org/pandas-docs/stable/user_guide/indexing.html#returning-a-view-versus-a-copy\n",
            "  data_reverse[column[k]+'-count'][i]=top-j\n",
            "<ipython-input-76-2e0c8bd9f3ad>:14: SettingWithCopyWarning: \n",
            "A value is trying to be set on a copy of a slice from a DataFrame\n",
            "\n",
            "See the caveats in the documentation: https://pandas.pydata.org/pandas-docs/stable/user_guide/indexing.html#returning-a-view-versus-a-copy\n",
            "  data_reverse[column[k]+'-count'][i]=top-j\n",
            "<ipython-input-76-2e0c8bd9f3ad>:14: SettingWithCopyWarning: \n",
            "A value is trying to be set on a copy of a slice from a DataFrame\n",
            "\n",
            "See the caveats in the documentation: https://pandas.pydata.org/pandas-docs/stable/user_guide/indexing.html#returning-a-view-versus-a-copy\n",
            "  data_reverse[column[k]+'-count'][i]=top-j\n",
            "<ipython-input-76-2e0c8bd9f3ad>:14: SettingWithCopyWarning: \n",
            "A value is trying to be set on a copy of a slice from a DataFrame\n",
            "\n",
            "See the caveats in the documentation: https://pandas.pydata.org/pandas-docs/stable/user_guide/indexing.html#returning-a-view-versus-a-copy\n",
            "  data_reverse[column[k]+'-count'][i]=top-j\n",
            "<ipython-input-76-2e0c8bd9f3ad>:14: SettingWithCopyWarning: \n",
            "A value is trying to be set on a copy of a slice from a DataFrame\n",
            "\n",
            "See the caveats in the documentation: https://pandas.pydata.org/pandas-docs/stable/user_guide/indexing.html#returning-a-view-versus-a-copy\n",
            "  data_reverse[column[k]+'-count'][i]=top-j\n",
            "<ipython-input-76-2e0c8bd9f3ad>:14: SettingWithCopyWarning: \n",
            "A value is trying to be set on a copy of a slice from a DataFrame\n",
            "\n",
            "See the caveats in the documentation: https://pandas.pydata.org/pandas-docs/stable/user_guide/indexing.html#returning-a-view-versus-a-copy\n",
            "  data_reverse[column[k]+'-count'][i]=top-j\n",
            "<ipython-input-76-2e0c8bd9f3ad>:21: SettingWithCopyWarning: \n",
            "A value is trying to be set on a copy of a slice from a DataFrame\n",
            "\n",
            "See the caveats in the documentation: https://pandas.pydata.org/pandas-docs/stable/user_guide/indexing.html#returning-a-view-versus-a-copy\n",
            "  data_reverse_test[column[k]+'-count'][i]=top-j\n",
            "<ipython-input-76-2e0c8bd9f3ad>:21: SettingWithCopyWarning: \n",
            "A value is trying to be set on a copy of a slice from a DataFrame\n",
            "\n",
            "See the caveats in the documentation: https://pandas.pydata.org/pandas-docs/stable/user_guide/indexing.html#returning-a-view-versus-a-copy\n",
            "  data_reverse_test[column[k]+'-count'][i]=top-j\n",
            "<ipython-input-76-2e0c8bd9f3ad>:21: SettingWithCopyWarning: \n",
            "A value is trying to be set on a copy of a slice from a DataFrame\n",
            "\n",
            "See the caveats in the documentation: https://pandas.pydata.org/pandas-docs/stable/user_guide/indexing.html#returning-a-view-versus-a-copy\n",
            "  data_reverse_test[column[k]+'-count'][i]=top-j\n",
            "<ipython-input-76-2e0c8bd9f3ad>:21: SettingWithCopyWarning: \n",
            "A value is trying to be set on a copy of a slice from a DataFrame\n",
            "\n",
            "See the caveats in the documentation: https://pandas.pydata.org/pandas-docs/stable/user_guide/indexing.html#returning-a-view-versus-a-copy\n",
            "  data_reverse_test[column[k]+'-count'][i]=top-j\n",
            "<ipython-input-76-2e0c8bd9f3ad>:21: SettingWithCopyWarning: \n",
            "A value is trying to be set on a copy of a slice from a DataFrame\n",
            "\n",
            "See the caveats in the documentation: https://pandas.pydata.org/pandas-docs/stable/user_guide/indexing.html#returning-a-view-versus-a-copy\n",
            "  data_reverse_test[column[k]+'-count'][i]=top-j\n",
            "<ipython-input-76-2e0c8bd9f3ad>:21: SettingWithCopyWarning: \n",
            "A value is trying to be set on a copy of a slice from a DataFrame\n",
            "\n",
            "See the caveats in the documentation: https://pandas.pydata.org/pandas-docs/stable/user_guide/indexing.html#returning-a-view-versus-a-copy\n",
            "  data_reverse_test[column[k]+'-count'][i]=top-j\n",
            "<ipython-input-76-2e0c8bd9f3ad>:21: SettingWithCopyWarning: \n",
            "A value is trying to be set on a copy of a slice from a DataFrame\n",
            "\n",
            "See the caveats in the documentation: https://pandas.pydata.org/pandas-docs/stable/user_guide/indexing.html#returning-a-view-versus-a-copy\n",
            "  data_reverse_test[column[k]+'-count'][i]=top-j\n",
            "<ipython-input-76-2e0c8bd9f3ad>:21: SettingWithCopyWarning: \n",
            "A value is trying to be set on a copy of a slice from a DataFrame\n",
            "\n",
            "See the caveats in the documentation: https://pandas.pydata.org/pandas-docs/stable/user_guide/indexing.html#returning-a-view-versus-a-copy\n",
            "  data_reverse_test[column[k]+'-count'][i]=top-j\n",
            "<ipython-input-76-2e0c8bd9f3ad>:21: SettingWithCopyWarning: \n",
            "A value is trying to be set on a copy of a slice from a DataFrame\n",
            "\n",
            "See the caveats in the documentation: https://pandas.pydata.org/pandas-docs/stable/user_guide/indexing.html#returning-a-view-versus-a-copy\n",
            "  data_reverse_test[column[k]+'-count'][i]=top-j\n",
            "<ipython-input-76-2e0c8bd9f3ad>:21: SettingWithCopyWarning: \n",
            "A value is trying to be set on a copy of a slice from a DataFrame\n",
            "\n",
            "See the caveats in the documentation: https://pandas.pydata.org/pandas-docs/stable/user_guide/indexing.html#returning-a-view-versus-a-copy\n",
            "  data_reverse_test[column[k]+'-count'][i]=top-j\n"
          ]
        }
      ],
      "source": [
        "column=['高値-安値', '高値-始値','高値-終値', '安値-始値', '安値-終値', '始値-終値'\n",
        "  ,'過去高値-現在高値','過去安値-現在安値', '過去始値-現在始値', '過去終値-現在終値']\n",
        "top= 200\n",
        "list=np.zeros((len(column),top))\n",
        "for j in range(top):\n",
        "  for i in range(len(column)):\n",
        "    list[i][j]=round(data_reverse[column[i]][data_reverse[\"上昇\"]==1].value_counts().head(top).index[j],2)\n",
        "\n",
        "for k in range(len(column)):\n",
        "  data_reverse[column[k]+'-count']=0\n",
        "  for j in range(top):\n",
        "    for i in range(len(data_reverse)):\n",
        "      if round(data_reverse[column[k]][i],2)==list[k][j]:\n",
        "        data_reverse[column[k]+'-count'][i]=top-j\n",
        "\n",
        "for k in range(len(column)):\n",
        "  data_reverse_test[column[k]+'-count']=0\n",
        "  for j in range(top):\n",
        "    for i in range(len(data_reverse_test)):\n",
        "      if round(data_reverse_test[column[k]][i],2)==list[k][j]:\n",
        "        data_reverse_test[column[k]+'-count'][i]=top-j"
      ]
    },
    {
      "cell_type": "code",
      "execution_count": null,
      "metadata": {
        "colab": {
          "base_uri": "https://localhost:8080/"
        },
        "id": "FyTskJDmOuyj",
        "outputId": "f66a4c5a-5ea4-4098-f690-05be297aff19"
      },
      "outputs": [
        {
          "output_type": "execute_result",
          "data": {
            "text/plain": [
              "Index(['日付け', '終値_x', '始値_x', '高値_x', '安値_x', '出来高_x', '変化率 %_x', '終値_y',\n",
              "       '始値_y', '高値_y', '安値_y', '出来高_y', '変化率 %_y', '終値', '始値', '高値', '安値',\n",
              "       '上昇', '高値-安値', '高値-始値', '高値-終値', '安値-始値', '安値-終値', '始値-終値', '過去高値-現在高値',\n",
              "       '過去安値-現在安値', '過去始値-現在始値', '過去終値-現在終値', '高値-安値-2', '高値-始値-2', '高値-終値-2',\n",
              "       '安値-始値-2', '安値-終値-2', '始値-終値-2', '高値-安値-3', '高値-始値-3', '高値-終値-3',\n",
              "       '安値-始値-3', '安値-終値-3', '始値-終値-3', '高値-安値-count', '高値-始値-count',\n",
              "       '高値-終値-count', '安値-始値-count', '安値-終値-count', '始値-終値-count',\n",
              "       '過去高値-現在高値-count', '過去安値-現在安値-count', '過去始値-現在始値-count',\n",
              "       '過去終値-現在終値-count'],\n",
              "      dtype='object')"
            ]
          },
          "metadata": {},
          "execution_count": 77
        }
      ],
      "source": [
        "data_reverse.columns"
      ]
    },
    {
      "cell_type": "code",
      "execution_count": null,
      "metadata": {
        "id": "ZzDsaezzMfpb"
      },
      "outputs": [],
      "source": [
        "x_train=data_reverse[['高値-安値-count', '高値-始値-count',\n",
        "       '高値-終値-count', '安値-始値-count', '安値-終値-count', '始値-終値-count',\n",
        "       '過去高値-現在高値-count', '過去安値-現在安値-count', '過去始値-現在始値-count',\n",
        "       '過去終値-現在終値-count', '終値', '始値', '高値', '安値', '終値_y',\n",
        "       '始値_y', '高値_y', '安値_y', '終値_x', '始値_x', '高値_x', '安値_x']].values\n",
        "y_train=data_reverse[['上昇']].values\n",
        "\n",
        "x_test=data_reverse_test[['高値-安値-count', '高値-始値-count',\n",
        "       '高値-終値-count', '安値-始値-count', '安値-終値-count', '始値-終値-count',\n",
        "       '過去高値-現在高値-count', '過去安値-現在安値-count', '過去始値-現在始値-count',\n",
        "       '過去終値-現在終値-count', '終値', '始値', '高値', '安値', '終値_y',\n",
        "       '始値_y', '高値_y', '安値_y', '終値_x', '始値_x', '高値_x', '安値_x']].values\n",
        "y_test=data_reverse_test[['上昇']].values"
      ]
    },
    {
      "cell_type": "markdown",
      "metadata": {
        "id": "1LgrsMAmUXp4"
      },
      "source": [
        "#モデル学習"
      ]
    },
    {
      "cell_type": "code",
      "execution_count": null,
      "metadata": {
        "colab": {
          "base_uri": "https://localhost:8080/"
        },
        "id": "DPdX95iCDAnU",
        "outputId": "96bf9bea-1b88-45da-b0f8-efeb478c3e1f"
      },
      "outputs": [
        {
          "output_type": "stream",
          "name": "stderr",
          "text": [
            "/usr/local/lib/python3.10/dist-packages/sklearn/ensemble/_gb.py:437: DataConversionWarning: A column-vector y was passed when a 1d array was expected. Please change the shape of y to (n_samples, ), for example using ravel().\n",
            "  y = column_or_1d(y, warn=True)\n"
          ]
        },
        {
          "output_type": "stream",
          "name": "stdout",
          "text": [
            "正答率 50.67％\n"
          ]
        }
      ],
      "source": [
        "#GBDT\n",
        "from sklearn.metrics import accuracy_score\n",
        "from sklearn.ensemble import GradientBoostingClassifier\n",
        "\n",
        "gbdt = GradientBoostingClassifier(max_depth=7)\n",
        "gbdt.fit(x_train,y_train)\n",
        "pred_gbdt_train=gbdt.predict(x_train)\n",
        "pred_gbdt_test=gbdt.predict(x_test)\n",
        "\n",
        "print('正答率 '+str(round(accuracy_score(y_test, pred_gbdt_test)*100,2))+'％')"
      ]
    },
    {
      "cell_type": "code",
      "execution_count": null,
      "metadata": {
        "colab": {
          "base_uri": "https://localhost:8080/"
        },
        "id": "AfaYH30bKa-j",
        "outputId": "6d350c5d-b765-4c71-b61b-4730a95a04ee"
      },
      "outputs": [
        {
          "output_type": "stream",
          "name": "stderr",
          "text": [
            "/usr/local/lib/python3.10/dist-packages/sklearn/neural_network/_multilayer_perceptron.py:1098: DataConversionWarning: A column-vector y was passed when a 1d array was expected. Please change the shape of y to (n_samples, ), for example using ravel().\n",
            "  y = column_or_1d(y, warn=True)\n"
          ]
        },
        {
          "output_type": "stream",
          "name": "stdout",
          "text": [
            "0.48518518518518516\n"
          ]
        }
      ],
      "source": [
        "#多層ニューラルネットワーク\n",
        "from sklearn.neural_network import MLPClassifier\n",
        "\n",
        "mlp = MLPClassifier(hidden_layer_sizes=1000)\n",
        "mlp.fit(x_train,y_train)\n",
        "pred_mlp_train=mlp.predict(x_train)\n",
        "pred_mlp_test=mlp.predict(x_test)\n",
        "\n",
        "print (accuracy_score(y_test, pred_mlp_test))"
      ]
    },
    {
      "cell_type": "markdown",
      "metadata": {
        "id": "p2I3Xe-IUeBE"
      },
      "source": [
        "#売買シグナル"
      ]
    },
    {
      "cell_type": "code",
      "execution_count": null,
      "metadata": {
        "colab": {
          "base_uri": "https://localhost:8080/"
        },
        "id": "jGx_jwWfCD9L",
        "outputId": "2cb9e363-30ab-46bc-8418-b52614d5e28a"
      },
      "outputs": [
        {
          "output_type": "execute_result",
          "data": {
            "text/plain": [
              "0"
            ]
          },
          "metadata": {},
          "execution_count": 81
        }
      ],
      "source": [
        "#売買シグナル（1なら買い、0なら売り）\n",
        "pred_gbdt_test[-2]"
      ]
    },
    {
      "cell_type": "code",
      "source": [
        "!git add ."
      ],
      "metadata": {
        "id": "s-I_4LtAh3HZ"
      },
      "execution_count": null,
      "outputs": []
    },
    {
      "cell_type": "code",
      "source": [
        "!git config --global user.email \"takukai0605@gmail.com\"\n",
        "!git config --global user.name \"kaitakuma\""
      ],
      "metadata": {
        "id": "j3iUy80Mibtd"
      },
      "execution_count": null,
      "outputs": []
    },
    {
      "cell_type": "code",
      "source": [
        "!git commit -m\"update\""
      ],
      "metadata": {
        "colab": {
          "base_uri": "https://localhost:8080/"
        },
        "id": "OF3bStTehyvN",
        "outputId": "6492ed39-1805-4709-c570-94dc7ef1ab32"
      },
      "execution_count": null,
      "outputs": [
        {
          "output_type": "stream",
          "name": "stdout",
          "text": [
            "[master (root-commit) 4fa5d4f] update\n",
            " 10 files changed, 32720 insertions(+)\n",
            " create mode 100644 \"NY\\343\\202\\277\\343\\202\\231\\343\\202\\246\\345\\271\\263\\345\\235\\207\\346\\240\\252\\344\\276\\241 \\351\\201\\216\\345\\216\\273\\343\\203\\206\\343\\202\\231\\343\\203\\274\\343\\202\\277.csv\"\n",
            " create mode 100644 \"USD_JPY \\351\\201\\216\\345\\216\\273\\343\\203\\206\\343\\202\\231\\343\\203\\274\\343\\202\\277_0.csv\"\n",
            " create mode 100644 \"USD_JPY \\351\\201\\216\\345\\216\\273\\343\\203\\206\\343\\202\\231\\343\\203\\274\\343\\202\\277_1.csv\"\n",
            " create mode 100644 \"USD_JPY \\351\\201\\216\\345\\216\\273\\343\\203\\206\\343\\202\\231\\343\\203\\274\\343\\202\\277_2.csv\"\n",
            " create mode 100644 \"USD_JPY \\351\\201\\216\\345\\216\\273\\343\\203\\206\\343\\202\\231\\343\\203\\274\\343\\202\\277_3.csv\"\n",
            " create mode 100644 \"USD_JPY \\351\\201\\216\\345\\216\\273\\343\\203\\206\\343\\202\\231\\343\\203\\274\\343\\202\\277_4.csv\"\n",
            " create mode 100644 \"\\344\\272\\210\\346\\270\\254\\343\\203\\242\\343\\203\\206\\343\\202\\231\\343\\203\\253.ipynb\"\n",
            " create mode 100644 \"\\344\\272\\210\\346\\270\\254\\343\\203\\242\\343\\203\\206\\343\\202\\231\\343\\203\\253_2.ipynb \"\n",
            " create mode 100644 \"\\344\\272\\210\\346\\270\\254\\343\\203\\242\\343\\203\\206\\343\\202\\231\\343\\203\\253_\\345\\256\\214\\345\\205\\250\\344\\275\\223.ipynb \"\n",
            " create mode 100644 \"\\346\\227\\245\\347\\265\\214\\345\\271\\263\\345\\235\\207\\346\\240\\252\\344\\276\\241 \\351\\201\\216\\345\\216\\273\\343\\203\\206\\343\\202\\231\\343\\203\\274\\343\\202\\277.csv\"\n"
          ]
        }
      ]
    },
    {
      "cell_type": "code",
      "source": [
        "% ssh-keygen -t rsa"
      ],
      "metadata": {
        "colab": {
          "base_uri": "https://localhost:8080/"
        },
        "id": "Hn3IIH2ejOFP",
        "outputId": "74b8235c-6e99-4316-8b8a-f36fe7638978"
      },
      "execution_count": null,
      "outputs": [
        {
          "output_type": "stream",
          "name": "stderr",
          "text": [
            "UsageError: Line magic function `%` not found.\n"
          ]
        }
      ]
    },
    {
      "cell_type": "code",
      "source": [
        "!git branch"
      ],
      "metadata": {
        "colab": {
          "base_uri": "https://localhost:8080/"
        },
        "id": "BDInXpH-jAj4",
        "outputId": "380dd06d-0c0e-4dca-b4d9-0ce39e6b2fe3"
      },
      "execution_count": null,
      "outputs": [
        {
          "output_type": "stream",
          "name": "stdout",
          "text": [
            "* \u001b[32mmaster\u001b[m\n"
          ]
        }
      ]
    },
    {
      "cell_type": "code",
      "source": [
        "!git remote rm origin"
      ],
      "metadata": {
        "id": "dtSzoJEJlBKB"
      },
      "execution_count": null,
      "outputs": []
    },
    {
      "cell_type": "code",
      "source": [
        "!git remote add origin https://github.com/takukai0605/test2.git"
      ],
      "metadata": {
        "id": "YXMvkSE2kbd9"
      },
      "execution_count": null,
      "outputs": []
    },
    {
      "cell_type": "code",
      "source": [],
      "metadata": {
        "id": "yevfrH94k2_L"
      },
      "execution_count": null,
      "outputs": []
    },
    {
      "cell_type": "code",
      "source": [
        "!git push origin master "
      ],
      "metadata": {
        "colab": {
          "base_uri": "https://localhost:8080/"
        },
        "id": "EPQQi2cph62d",
        "outputId": "929d1581-32bc-41e0-fad1-de37c0804b7f"
      },
      "execution_count": null,
      "outputs": [
        {
          "output_type": "stream",
          "name": "stdout",
          "text": [
            "fatal: unable to access 'https://github.com/takukai0605/test2.git/': Received HTTP code 400 from proxy after CONNECT\n"
          ]
        }
      ]
    }
  ],
  "metadata": {
    "accelerator": "GPU",
    "colab": {
      "machine_shape": "hm",
      "provenance": [],
      "include_colab_link": true
    },
    "gpuClass": "standard",
    "kernelspec": {
      "display_name": "Python 3",
      "name": "python3"
    },
    "language_info": {
      "name": "python"
    }
  },
  "nbformat": 4,
  "nbformat_minor": 0
}